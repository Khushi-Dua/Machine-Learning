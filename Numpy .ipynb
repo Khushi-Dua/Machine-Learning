{
 "cells": [
  {
   "cell_type": "markdown",
   "id": "6c0720de",
   "metadata": {},
   "source": [
    "# Essential NumPy Functions for Machine Learning"
   ]
  },
  {
   "cell_type": "markdown",
   "id": "21fed65b",
   "metadata": {},
   "source": [
    "Hey there, fellow learner! 🎉 Welcome to this super exciting journey into NumPy – the ultimate tool for anyone diving into data science and machine learning. Whether you're just starting out or leveling up your skills, these NumPy functions are going to become your best friends!\n",
    "\n",
    "Let's learn together, have some fun with code, and unlock the power of these functions to tackle real-world problems! 💪 Ready to roll up your sleeves and dive in? Let’s make learning NumPy a blast! 🚀\n",
    "\n"
   ]
  },
  {
   "cell_type": "markdown",
   "id": "5c5f6f1a",
   "metadata": {},
   "source": [
    "## Import NumPy module\n",
    "\n",
    "Run the following code cell to import the NumPy module:"
   ]
  },
  {
   "cell_type": "code",
   "execution_count": 1,
   "id": "e9d8dd99",
   "metadata": {},
   "outputs": [],
   "source": [
    "import numpy as np "
   ]
  },
  {
   "cell_type": "markdown",
   "id": "b18b06da",
   "metadata": {},
   "source": [
    "## Populate arrays with specific numbers\n",
    "\n",
    "Call `np.array` to create a NumPy array with your own hand-picked values. For example, the following call to `np.array` creates an 8-element array:"
   ]
  },
  {
   "cell_type": "code",
   "execution_count": 2,
   "id": "7d92573b",
   "metadata": {},
   "outputs": [
    {
     "name": "stdout",
     "output_type": "stream",
     "text": [
      "[1.2 2.4 3.5 4.7 6.1 7.2 8.3 9.5]\n"
     ]
    }
   ],
   "source": [
    "one_dimensional_array = np.array([1.2, 2.4, 3.5, 4.7, 6.1, 7.2, 8.3, 9.5])\n",
    "print(one_dimensional_array)"
   ]
  },
  {
   "cell_type": "markdown",
   "id": "778f12f5",
   "metadata": {},
   "source": [
    "You can also use np.array to create a two-dimensional array. To create a two-dimensional array specify an extra layer of square brackets. For example, the following call creates a 3x2 array:"
   ]
  },
  {
   "cell_type": "code",
   "execution_count": 3,
   "id": "9c3b02c3",
   "metadata": {},
   "outputs": [
    {
     "name": "stdout",
     "output_type": "stream",
     "text": [
      "[[ 6  5]\n",
      " [11  7]\n",
      " [ 4  8]]\n"
     ]
    }
   ],
   "source": [
    "two_dimensional_array = np.array([[6, 5], [11, 7], [4, 8]])\n",
    "print(two_dimensional_array)"
   ]
  },
  {
   "cell_type": "markdown",
   "id": "83341e23",
   "metadata": {},
   "source": [
    "To populate an array with all zeroes, call `np.zeros`. To populate an array with all ones, call `np.ones`."
   ]
  },
  {
   "cell_type": "markdown",
   "id": "ce56a1ec",
   "metadata": {},
   "source": [
    "## Populate arrays with sequences of numbers\n",
    "\n",
    "You can populate an array with a sequence of numbers:"
   ]
  },
  {
   "cell_type": "code",
   "execution_count": 4,
   "id": "f0e2f279",
   "metadata": {},
   "outputs": [
    {
     "name": "stdout",
     "output_type": "stream",
     "text": [
      "[ 5  6  7  8  9 10 11]\n"
     ]
    }
   ],
   "source": [
    "sequence_of_integers = np.arange(5, 12)\n",
    "print(sequence_of_integers)"
   ]
  },
  {
   "cell_type": "markdown",
   "id": "30d044b0",
   "metadata": {},
   "source": [
    "# 1. Array Creation and Manipulation\n"
   ]
  },
  {
   "cell_type": "markdown",
   "id": "1c7b7618",
   "metadata": {},
   "source": [
    "**np.array()**\n",
    "- Converts a Python list (or other iterable) into a NumPy array.-"
   ]
  },
  {
   "cell_type": "code",
   "execution_count": 5,
   "id": "da56fc21",
   "metadata": {},
   "outputs": [
    {
     "data": {
      "text/plain": [
       "array([1, 2, 3])"
      ]
     },
     "execution_count": 5,
     "metadata": {},
     "output_type": "execute_result"
    }
   ],
   "source": [
    "np.array([1, 2, 3])\n"
   ]
  },
  {
   "cell_type": "markdown",
   "id": "7044ec81",
   "metadata": {},
   "source": [
    "**np.zeros()**\n",
    " - Creates an array of zeros with the specified shape"
   ]
  },
  {
   "cell_type": "code",
   "execution_count": 6,
   "id": "61f2829e",
   "metadata": {},
   "outputs": [
    {
     "data": {
      "text/plain": [
       "array([[0., 0.],\n",
       "       [0., 0.],\n",
       "       [0., 0.]])"
      ]
     },
     "execution_count": 6,
     "metadata": {},
     "output_type": "execute_result"
    }
   ],
   "source": [
    "np.zeros((3, 2))  # 3x2 array of zeros\n"
   ]
  },
  {
   "cell_type": "markdown",
   "id": "21c6b7ce",
   "metadata": {},
   "source": [
    "**np.ones()**\n",
    "- Creates an array of ones with the specified shape."
   ]
  },
  {
   "cell_type": "code",
   "execution_count": 7,
   "id": "2ea872c8",
   "metadata": {},
   "outputs": [
    {
     "data": {
      "text/plain": [
       "array([[1., 1., 1.],\n",
       "       [1., 1., 1.]])"
      ]
     },
     "execution_count": 7,
     "metadata": {},
     "output_type": "execute_result"
    }
   ],
   "source": [
    "np.ones((2, 3))  # 2x3 array of ones\n"
   ]
  },
  {
   "cell_type": "markdown",
   "id": "007e78ca",
   "metadata": {},
   "source": [
    "**np.arange()**\n",
    "- Returns evenly spaced values within a given range."
   ]
  },
  {
   "cell_type": "code",
   "execution_count": 8,
   "id": "f11544a3",
   "metadata": {},
   "outputs": [
    {
     "data": {
      "text/plain": [
       "array([0, 2, 4, 6, 8])"
      ]
     },
     "execution_count": 8,
     "metadata": {},
     "output_type": "execute_result"
    }
   ],
   "source": [
    "np.arange(0, 10, 2)  # [0, 2, 4, 6, 8]\n"
   ]
  },
  {
   "cell_type": "markdown",
   "id": "ff345f31",
   "metadata": {},
   "source": [
    "**np.linspace()**\n",
    "- Creates an array of evenly spaced values over a specified range, useful for generating features or plotting points."
   ]
  },
  {
   "cell_type": "code",
   "execution_count": 9,
   "id": "de0ceb7e",
   "metadata": {},
   "outputs": [
    {
     "data": {
      "text/plain": [
       "array([0.  , 0.25, 0.5 , 0.75, 1.  ])"
      ]
     },
     "execution_count": 9,
     "metadata": {},
     "output_type": "execute_result"
    }
   ],
   "source": [
    "np.linspace(0, 1, 5)  # [0.   0.25 0.5  0.75 1.]\n"
   ]
  },
  {
   "cell_type": "markdown",
   "id": "70913280",
   "metadata": {},
   "source": [
    "**np.reshape()**\n",
    "- Reshapes an array without changing its data."
   ]
  },
  {
   "cell_type": "code",
   "execution_count": 10,
   "id": "54d1b8d7",
   "metadata": {},
   "outputs": [
    {
     "data": {
      "text/plain": [
       "array([[1, 2, 3],\n",
       "       [4, 5, 6]])"
      ]
     },
     "execution_count": 10,
     "metadata": {},
     "output_type": "execute_result"
    }
   ],
   "source": [
    "arr = np.array([1, 2, 3, 4, 5, 6])\n",
    "arr.reshape(2, 3)  # Reshapes to 2x3 array\n"
   ]
  },
  {
   "cell_type": "markdown",
   "id": "b4e6a8d5",
   "metadata": {},
   "source": [
    "**np.ravel()**\n",
    "- Flattens a multi-dimensional array into a 1D array."
   ]
  },
  {
   "cell_type": "code",
   "execution_count": 11,
   "id": "a3ff8fcd",
   "metadata": {},
   "outputs": [
    {
     "data": {
      "text/plain": [
       "array([1, 2, 3, 4])"
      ]
     },
     "execution_count": 11,
     "metadata": {},
     "output_type": "execute_result"
    }
   ],
   "source": [
    "np.ravel([[1, 2], [3, 4]])  # [1, 2, 3, 4]\n"
   ]
  },
  {
   "cell_type": "markdown",
   "id": "face2509",
   "metadata": {},
   "source": [
    "# 2. Array Arithmetic & Mathematical Operations"
   ]
  },
  {
   "cell_type": "markdown",
   "id": "729d046a",
   "metadata": {},
   "source": [
    "**np.add()**\n",
    "- Element-wise addition of arrays."
   ]
  },
  {
   "cell_type": "code",
   "execution_count": 12,
   "id": "b5cc7b2d",
   "metadata": {},
   "outputs": [
    {
     "data": {
      "text/plain": [
       "array([4, 6])"
      ]
     },
     "execution_count": 12,
     "metadata": {},
     "output_type": "execute_result"
    }
   ],
   "source": [
    "np.add([1, 2], [3, 4])  # [4, 6]\n"
   ]
  },
  {
   "cell_type": "markdown",
   "id": "59c93975",
   "metadata": {},
   "source": [
    "**np.subtract()**\n",
    "- Element-wise subtraction of arrays."
   ]
  },
  {
   "cell_type": "code",
   "execution_count": 13,
   "id": "75cb11f2",
   "metadata": {},
   "outputs": [
    {
     "data": {
      "text/plain": [
       "array([4, 4])"
      ]
     },
     "execution_count": 13,
     "metadata": {},
     "output_type": "execute_result"
    }
   ],
   "source": [
    "np.subtract([5, 6], [1, 2])  # [4, 4]\n"
   ]
  },
  {
   "cell_type": "markdown",
   "id": "2e19c53c",
   "metadata": {},
   "source": [
    "**np.multiply()**\n",
    "- Element-wise multiplication of arrays."
   ]
  },
  {
   "cell_type": "code",
   "execution_count": 14,
   "id": "e12a9184",
   "metadata": {},
   "outputs": [
    {
     "data": {
      "text/plain": [
       "array([3, 8])"
      ]
     },
     "execution_count": 14,
     "metadata": {},
     "output_type": "execute_result"
    }
   ],
   "source": [
    "np.multiply([1, 2], [3, 4])  # [3, 8]\n"
   ]
  },
  {
   "cell_type": "markdown",
   "id": "a17d0dfd",
   "metadata": {},
   "source": [
    "**np.divide()**\n",
    "- Element-wise division of arrays."
   ]
  },
  {
   "cell_type": "code",
   "execution_count": 15,
   "id": "7c957719",
   "metadata": {},
   "outputs": [
    {
     "data": {
      "text/plain": [
       "array([3., 2.])"
      ]
     },
     "execution_count": 15,
     "metadata": {},
     "output_type": "execute_result"
    }
   ],
   "source": [
    "np.divide([6, 8], [2, 4])  # [3.0, 2.0]\n"
   ]
  },
  {
   "cell_type": "markdown",
   "id": "928429c7",
   "metadata": {},
   "source": [
    "**np.dot()**\n",
    "- Dot product of two arrays. Used for matrix multiplication."
   ]
  },
  {
   "cell_type": "code",
   "execution_count": 16,
   "id": "337739ab",
   "metadata": {},
   "outputs": [
    {
     "data": {
      "text/plain": [
       "11"
      ]
     },
     "execution_count": 16,
     "metadata": {},
     "output_type": "execute_result"
    }
   ],
   "source": [
    "np.dot([1, 2], [3, 4])  # 11 (1*3 + 2*4)\n"
   ]
  },
  {
   "cell_type": "markdown",
   "id": "1715322f",
   "metadata": {},
   "source": [
    "**np.sum()**\n",
    "- Sum of all elements in an array (or along a specified axis)."
   ]
  },
  {
   "cell_type": "code",
   "execution_count": 17,
   "id": "02b5174f",
   "metadata": {},
   "outputs": [
    {
     "data": {
      "text/plain": [
       "array([4, 6])"
      ]
     },
     "execution_count": 17,
     "metadata": {},
     "output_type": "execute_result"
    }
   ],
   "source": [
    "np.sum([1, 2, 3, 4])  # 10\n",
    "np.sum([[1, 2], [3, 4]], axis=0)  # [4, 6]\n"
   ]
  },
  {
   "cell_type": "markdown",
   "id": "b938d262",
   "metadata": {},
   "source": [
    "**np.mean()**\n",
    "- Computes the mean (average) of an array."
   ]
  },
  {
   "cell_type": "code",
   "execution_count": 18,
   "id": "bb04dcd7",
   "metadata": {},
   "outputs": [
    {
     "data": {
      "text/plain": [
       "2.5"
      ]
     },
     "execution_count": 18,
     "metadata": {},
     "output_type": "execute_result"
    }
   ],
   "source": [
    "np.mean([1, 2, 3, 4])  # 2.5"
   ]
  },
  {
   "cell_type": "markdown",
   "id": "ab168c9b",
   "metadata": {},
   "source": [
    "**np.median()**\n",
    "- Computes the median of an array."
   ]
  },
  {
   "cell_type": "code",
   "execution_count": 19,
   "id": "87f3d082",
   "metadata": {},
   "outputs": [
    {
     "data": {
      "text/plain": [
       "2.5"
      ]
     },
     "execution_count": 19,
     "metadata": {},
     "output_type": "execute_result"
    }
   ],
   "source": [
    "np.median([1, 2, 3, 4])  # 2.5"
   ]
  },
  {
   "cell_type": "markdown",
   "id": "c2124063",
   "metadata": {},
   "source": [
    "**np.std()**\n",
    "- Computes the standard deviation of an array."
   ]
  },
  {
   "cell_type": "code",
   "execution_count": 20,
   "id": "0a15410d",
   "metadata": {},
   "outputs": [
    {
     "data": {
      "text/plain": [
       "1.118033988749895"
      ]
     },
     "execution_count": 20,
     "metadata": {},
     "output_type": "execute_result"
    }
   ],
   "source": [
    "np.std([1, 2, 3, 4])  # 1.118"
   ]
  },
  {
   "cell_type": "markdown",
   "id": "91a747ca",
   "metadata": {},
   "source": [
    "**np.var()**\n",
    "- Computes the variance of an array."
   ]
  },
  {
   "cell_type": "code",
   "execution_count": 21,
   "id": "3b68439e",
   "metadata": {},
   "outputs": [
    {
     "data": {
      "text/plain": [
       "1.25"
      ]
     },
     "execution_count": 21,
     "metadata": {},
     "output_type": "execute_result"
    }
   ],
   "source": [
    "np.var([1, 2, 3, 4])  # 1.25"
   ]
  },
  {
   "cell_type": "markdown",
   "id": "2023302f",
   "metadata": {},
   "source": [
    "**np.max() / np.min()**\n",
    "- Returns the maximum (or minimum) value of an array."
   ]
  },
  {
   "cell_type": "code",
   "execution_count": 22,
   "id": "40f64ce6",
   "metadata": {},
   "outputs": [
    {
     "name": "stdout",
     "output_type": "stream",
     "text": [
      "5\n",
      "1\n"
     ]
    }
   ],
   "source": [
    "print(np.max([1, 5, 3]))  # 5\n",
    "print(np.min([1, 5, 3]))  # 1"
   ]
  },
  {
   "cell_type": "markdown",
   "id": "4fb751b8",
   "metadata": {},
   "source": [
    "**np.exp()**\n",
    "- Computes the exponential (e^x) of each element in an array."
   ]
  },
  {
   "cell_type": "code",
   "execution_count": 23,
   "id": "f6525b01",
   "metadata": {},
   "outputs": [
    {
     "data": {
      "text/plain": [
       "array([ 2.71828183,  7.3890561 , 20.08553692])"
      ]
     },
     "execution_count": 23,
     "metadata": {},
     "output_type": "execute_result"
    }
   ],
   "source": [
    "np.exp([1, 2, 3])  # [2.718, 7.389, 20.086]"
   ]
  },
  {
   "cell_type": "markdown",
   "id": "40dfae05",
   "metadata": {},
   "source": [
    "**np.log()**\n",
    "- Computes the natural logarithm (ln(x)) of each element in an array."
   ]
  },
  {
   "cell_type": "code",
   "execution_count": 24,
   "id": "316d64d8",
   "metadata": {},
   "outputs": [
    {
     "data": {
      "text/plain": [
       "array([0., 1., 2.])"
      ]
     },
     "execution_count": 24,
     "metadata": {},
     "output_type": "execute_result"
    }
   ],
   "source": [
    "np.log([1, np.e, np.e**2])  # [0, 1, 2]"
   ]
  },
  {
   "cell_type": "markdown",
   "id": "d7f02fb6",
   "metadata": {},
   "source": [
    "**np.sqrt()**\n",
    "- Computes the square root of each element in an array."
   ]
  },
  {
   "cell_type": "code",
   "execution_count": 25,
   "id": "a6aeab26",
   "metadata": {},
   "outputs": [
    {
     "data": {
      "text/plain": [
       "array([1., 2., 3.])"
      ]
     },
     "execution_count": 25,
     "metadata": {},
     "output_type": "execute_result"
    }
   ],
   "source": [
    "np.sqrt([1, 4, 9])  # [1., 2., 3.]"
   ]
  },
  {
   "cell_type": "markdown",
   "id": "0f11a2ca",
   "metadata": {},
   "source": [
    "# 3. Linear Algebra"
   ]
  },
  {
   "cell_type": "markdown",
   "id": "dd52b67e",
   "metadata": {},
   "source": [
    "**np.linalg.inv()**\n",
    "- Computes the inverse of a square matrix."
   ]
  },
  {
   "cell_type": "code",
   "execution_count": 26,
   "id": "a860c31d",
   "metadata": {},
   "outputs": [
    {
     "data": {
      "text/plain": [
       "array([[-2. ,  1. ],\n",
       "       [ 1.5, -0.5]])"
      ]
     },
     "execution_count": 26,
     "metadata": {},
     "output_type": "execute_result"
    }
   ],
   "source": [
    "np.linalg.inv(np.array([[1, 2], [3, 4]]))  "
   ]
  },
  {
   "cell_type": "markdown",
   "id": "05be4896",
   "metadata": {},
   "source": [
    "**np.linalg.det()**\n",
    "- Computes the determinant of a matrix."
   ]
  },
  {
   "cell_type": "code",
   "execution_count": 27,
   "id": "74662917",
   "metadata": {},
   "outputs": [
    {
     "data": {
      "text/plain": [
       "-2.0000000000000004"
      ]
     },
     "execution_count": 27,
     "metadata": {},
     "output_type": "execute_result"
    }
   ],
   "source": [
    "np.linalg.det(np.array([[1, 2], [3, 4]]))  # -2.0"
   ]
  },
  {
   "cell_type": "markdown",
   "id": "3b4ba18e",
   "metadata": {},
   "source": [
    "**np.linalg.eig()**\n",
    "- Computes the eigenvalues and eigenvectors of a square matrix."
   ]
  },
  {
   "cell_type": "code",
   "execution_count": 28,
   "id": "dbf66d85",
   "metadata": {},
   "outputs": [],
   "source": [
    "w, v = np.linalg.eig(np.array([[1, 2], [3, 4]]))  # w = eigenvalues, v = eigenvectors"
   ]
  },
  {
   "cell_type": "markdown",
   "id": "c379f459",
   "metadata": {},
   "source": [
    "**np.linalg.solve()**\n",
    "- Solves a system of linear equations, Ax=b."
   ]
  },
  {
   "cell_type": "code",
   "execution_count": 29,
   "id": "8a331f17",
   "metadata": {},
   "outputs": [
    {
     "data": {
      "text/plain": [
       "array([0. , 2.5])"
      ]
     },
     "execution_count": 29,
     "metadata": {},
     "output_type": "execute_result"
    }
   ],
   "source": [
    "A = np.array([[3, 2], [1, 2]])\n",
    "b = np.array([5, 5])\n",
    "np.linalg.solve(A, b)  # Solution to Ax = b"
   ]
  },
  {
   "cell_type": "markdown",
   "id": "1bee0c86",
   "metadata": {},
   "source": [
    "# 4. Random Number Generation"
   ]
  },
  {
   "cell_type": "markdown",
   "id": "9228db85",
   "metadata": {},
   "source": [
    "**np.random.rand()**\n",
    "- Generates random numbers uniformly distributed between 0 and 1."
   ]
  },
  {
   "cell_type": "code",
   "execution_count": 30,
   "id": "b050f6eb",
   "metadata": {},
   "outputs": [
    {
     "data": {
      "text/plain": [
       "array([[0.22499575, 0.86852719],\n",
       "       [0.54813529, 0.02595953],\n",
       "       [0.94601796, 0.63258875]])"
      ]
     },
     "execution_count": 30,
     "metadata": {},
     "output_type": "execute_result"
    }
   ],
   "source": [
    "np.random.rand(3, 2)  # 3x2 array of random numbers"
   ]
  },
  {
   "cell_type": "markdown",
   "id": "06b2bd40",
   "metadata": {},
   "source": [
    "**np.random.randn()**\n",
    "- Generates random numbers from a standard normal distribution (mean 0, variance 1)."
   ]
  },
  {
   "cell_type": "code",
   "execution_count": 31,
   "id": "04a6175f",
   "metadata": {},
   "outputs": [
    {
     "data": {
      "text/plain": [
       "array([[-1.59787218,  0.33489595],\n",
       "       [-1.14248443, -0.71736064]])"
      ]
     },
     "execution_count": 31,
     "metadata": {},
     "output_type": "execute_result"
    }
   ],
   "source": [
    "np.random.randn(2, 2)  # 2x2 array of random numbers"
   ]
  },
  {
   "cell_type": "markdown",
   "id": "ea083e7c",
   "metadata": {},
   "source": [
    "**np.random.randint()**\n",
    "- Generates random integers between specified limits."
   ]
  },
  {
   "cell_type": "code",
   "execution_count": 32,
   "id": "92683b96",
   "metadata": {},
   "outputs": [
    {
     "data": {
      "text/plain": [
       "array([7, 9, 4])"
      ]
     },
     "execution_count": 32,
     "metadata": {},
     "output_type": "execute_result"
    }
   ],
   "source": [
    "np.random.randint(1, 10, size=3)  # Random integers between 1 and 10"
   ]
  },
  {
   "cell_type": "markdown",
   "id": "be72f78c",
   "metadata": {},
   "source": [
    "**np.random.shuffle()**\n",
    "- Shuffles the elements of an array in place."
   ]
  },
  {
   "cell_type": "code",
   "execution_count": 33,
   "id": "3e49506f",
   "metadata": {},
   "outputs": [
    {
     "data": {
      "text/plain": [
       "array([4, 5, 2, 1, 3])"
      ]
     },
     "execution_count": 33,
     "metadata": {},
     "output_type": "execute_result"
    }
   ],
   "source": [
    "arr = np.array([1, 2, 3, 4, 5])\n",
    "np.random.shuffle(arr) # Array elements are shuffled randomly\n",
    "arr"
   ]
  },
  {
   "cell_type": "markdown",
   "id": "f04586e0",
   "metadata": {},
   "source": [
    "# 5. Statistics and Distribution"
   ]
  },
  {
   "cell_type": "markdown",
   "id": "4fa2c046",
   "metadata": {},
   "source": [
    "**np.percentile()**\n",
    "- Computes the percentile of an array."
   ]
  },
  {
   "cell_type": "code",
   "execution_count": 34,
   "id": "26244570",
   "metadata": {},
   "outputs": [
    {
     "data": {
      "text/plain": [
       "3.0"
      ]
     },
     "execution_count": 34,
     "metadata": {},
     "output_type": "execute_result"
    }
   ],
   "source": [
    "np.percentile([1, 2, 3, 4, 5], 50)  # 3 (50th percentile)"
   ]
  },
  {
   "cell_type": "markdown",
   "id": "30d41812",
   "metadata": {},
   "source": [
    "**np.corrcoef()**\n",
    "- Computes the Pearson correlation coefficient between two or more arrays."
   ]
  },
  {
   "cell_type": "code",
   "execution_count": 35,
   "id": "19a636a7",
   "metadata": {},
   "outputs": [
    {
     "data": {
      "text/plain": [
       "array([[1., 1.],\n",
       "       [1., 1.]])"
      ]
     },
     "execution_count": 35,
     "metadata": {},
     "output_type": "execute_result"
    }
   ],
   "source": [
    "np.corrcoef([1, 2, 3], [4, 5, 6])  # Correlation coefficient"
   ]
  },
  {
   "cell_type": "markdown",
   "id": "b31bdd3c",
   "metadata": {},
   "source": [
    "**np.histogram()**\n",
    "- Computes the histogram of an array."
   ]
  },
  {
   "cell_type": "code",
   "execution_count": 36,
   "id": "2455bb5f",
   "metadata": {},
   "outputs": [
    {
     "data": {
      "text/plain": [
       "(array([1, 2, 3, 1, 1], dtype=int64), array([1. , 1.8, 2.6, 3.4, 4.2, 5. ]))"
      ]
     },
     "execution_count": 36,
     "metadata": {},
     "output_type": "execute_result"
    }
   ],
   "source": [
    "np.histogram([1, 2, 2, 3, 3, 3, 4, 5], bins=5)"
   ]
  },
  {
   "cell_type": "markdown",
   "id": "5d03d1aa",
   "metadata": {},
   "source": [
    "# 6. Other Useful Functions"
   ]
  },
  {
   "cell_type": "markdown",
   "id": "45c89a36",
   "metadata": {},
   "source": [
    "**np.concatenate()**\n",
    "- Concatenates two or more arrays along a specified axis."
   ]
  },
  {
   "cell_type": "code",
   "execution_count": 37,
   "id": "5729a7f3",
   "metadata": {},
   "outputs": [
    {
     "data": {
      "text/plain": [
       "array([1, 2, 3, 4])"
      ]
     },
     "execution_count": 37,
     "metadata": {},
     "output_type": "execute_result"
    }
   ],
   "source": [
    "np.concatenate([np.array([1, 2]), np.array([3, 4])])  # [1, 2, 3, 4]"
   ]
  },
  {
   "cell_type": "markdown",
   "id": "89edff5a",
   "metadata": {},
   "source": [
    "**np.split()**\n",
    "- Splits an array into multiple sub-arrays.\n"
   ]
  },
  {
   "cell_type": "code",
   "execution_count": 38,
   "id": "78ae94d1",
   "metadata": {},
   "outputs": [
    {
     "data": {
      "text/plain": [
       "[array([1, 2]), array([3, 4]), array([5, 6])]"
      ]
     },
     "execution_count": 38,
     "metadata": {},
     "output_type": "execute_result"
    }
   ],
   "source": [
    "np.split(np.array([1, 2, 3, 4, 5, 6]), 3)  # [array([1, 2]), array([3, 4]), array([5, 6])]"
   ]
  },
  {
   "cell_type": "markdown",
   "id": "d7b6393f",
   "metadata": {},
   "source": [
    "**np.unique()**\n",
    "- Finds unique elements of an array."
   ]
  },
  {
   "cell_type": "code",
   "execution_count": 39,
   "id": "beef5c1c",
   "metadata": {},
   "outputs": [
    {
     "data": {
      "text/plain": [
       "array([1, 2, 3])"
      ]
     },
     "execution_count": 39,
     "metadata": {},
     "output_type": "execute_result"
    }
   ],
   "source": [
    "np.unique([1, 2, 2, 3, 3])  # [1, 2, 3]"
   ]
  }
 ],
 "metadata": {
  "kernelspec": {
   "display_name": "Python 3 (ipykernel)",
   "language": "python",
   "name": "python3"
  },
  "language_info": {
   "codemirror_mode": {
    "name": "ipython",
    "version": 3
   },
   "file_extension": ".py",
   "mimetype": "text/x-python",
   "name": "python",
   "nbconvert_exporter": "python",
   "pygments_lexer": "ipython3",
   "version": "3.11.5"
  }
 },
 "nbformat": 4,
 "nbformat_minor": 5
}
